{
 "cells": [
  {
   "cell_type": "markdown",
   "metadata": {},
   "source": [
    "# Analysis of Trajectory using MDtraj"
   ]
  },
  {
   "cell_type": "markdown",
   "metadata": {},
   "source": [
    "MDTraj is a python library that provides tools to analyze and modify your trajectory file.\n",
    "\n",
    "Utilize it to study the solvation of the solute in your systems.\n",
    "\n",
    "**Units**\n",
    "* **time = dumping frequency of the trajectoy**\n",
    "* **space = nm**"
   ]
  },
  {
   "cell_type": "code",
   "execution_count": null,
   "metadata": {},
   "outputs": [],
   "source": [
    "import mdtraj as md\n",
    "import numpy as np\n",
    "import matplotlib as mlp\n",
    "import matplotlib.pyplot as plt\n",
    "import pandas as pd"
   ]
  },
  {
   "cell_type": "code",
   "execution_count": null,
   "metadata": {},
   "outputs": [],
   "source": [
    "# load trajectory\n",
    "\n",
    "t = md.load_lammpstrj('dump.lammpstrj', top='topology.pdb')"
   ]
  },
  {
   "cell_type": "code",
   "execution_count": null,
   "metadata": {},
   "outputs": [],
   "source": [
    "# initialize the topology object \n",
    "\n",
    "top = t.topology\n",
    "frames = len(t)\n",
    "\n",
    "print(t)\n",
    "print(frames)"
   ]
  },
  {
   "cell_type": "code",
   "execution_count": null,
   "metadata": {},
   "outputs": [],
   "source": [
    "#creating a file with topology\n",
    "\n",
    "table, bonds = top.to_dataframe()\n",
    "\n",
    "with pd.option_context('display.max_rows', None, 'display.max_columns', None):\n",
    "    f = open(\"topology.txt\", \"a\")\n",
    "    f.write(str(table))\n",
    "    f.close"
   ]
  },
  {
   "cell_type": "code",
   "execution_count": null,
   "metadata": {},
   "outputs": [],
   "source": [
    "# atom selection\n",
    "\n",
    "H2O = (top.select(\"resname SPC\"))\n",
    "O = (top.select(\"resname SPC and element O\"))\n",
    "H = (top.select(\"resname SPC and element H\"))\n",
    "Na = (top.select(\"resname Na\"))\n",
    "Cl = (top.select(\"resname Cl\"))\n",
    "\n",
    "# print(O)\n"
   ]
  },
  {
   "cell_type": "code",
   "execution_count": null,
   "metadata": {},
   "outputs": [],
   "source": [
    "# select pairs of atoms with\n",
    "# top.select_pairs"
   ]
  },
  {
   "cell_type": "markdown",
   "metadata": {},
   "source": [
    "## Radial Distribution Function \n",
    "\n",
    "The radial distribution function, $g(r)$ in a system of particles gives a measure of the local structure around a reference particle. It describes the local density variation at radius $r$, relative to a uniform particle distribution ($\\rho=N/V$).  \n",
    "\n",
    "The peaks in the RDF define the coordination shells of the reference species. The RDF is the first and best tool to have a general picture of the solvation environment of a solute moclecule.\n",
    "\n"
   ]
  },
  {
   "cell_type": "code",
   "execution_count": null,
   "metadata": {},
   "outputs": [],
   "source": [
    "# Calculate the RDF between atoms of interest using\n",
    "# md.compute_rdf "
   ]
  },
  {
   "cell_type": "code",
   "execution_count": null,
   "metadata": {},
   "outputs": [],
   "source": [
    "# Plot the calculated radial distribution functions and compare with those from LAMMPS\n",
    "\n",
    "fig, ax = plt.subplots()\n",
    "\n",
    "ax.plot()\n",
    "\n",
    "ax.set(xlabel='$r$ / Å', ylabel='$g(r)$')\n",
    "fig.savefig(\"rdf.png\",bbox_inches='tight', dpi=300)\n"
   ]
  },
  {
   "cell_type": "markdown",
   "metadata": {},
   "source": [
    "## Coordination Number\n",
    "\n",
    "The coordination number is the number of observed particles found in the first coordination shell of the reference particle.\n",
    "\n",
    "This can be obtained by integrating the the $g(r)$ in spherical coordinates up to its first minimum:\n",
    "\n",
    "$$\n",
    "n(r_{min}) = 4\\pi \\int_{0}^{r_{min}} g(r) r^{2} dr\n",
    "$$"
   ]
  },
  {
   "cell_type": "code",
   "execution_count": null,
   "metadata": {},
   "outputs": [],
   "source": [
    "# Calculate the coordination numbers between atoms of interest \n",
    "# and compare with the ones obtained by LAMMPS "
   ]
  },
  {
   "cell_type": "markdown",
   "metadata": {},
   "source": [
    "## Combined distribution functions\n",
    "\n",
    "Several distribution functions can be combined to get more information on the local structure of the systems. \n",
    "\n",
    "Hydrogen bonding is defined by close vicinity of an hydrogen atom, covalently bonded to a very electronegative atom, with and another covalently bonded atom.\n",
    "\n",
    "The H of the donor particle is usually found at less than 3 Å of distance to the hydrogen bond acceptor and the angle between the electronegative species of the donor (D), the H atom(HD) and the acceptor(A) should be at ∠ 180°.\n",
    "\n",
    "Combining the radial angular distribution function of the D--HD--A angle with the radial distribution function of the HD--A bond, allows us to verify the presence of a hydrogen bond."
   ]
  },
  {
   "cell_type": "code",
   "execution_count": null,
   "metadata": {},
   "outputs": [],
   "source": [
    "def hbond(DH_A,cutoff,t,top):\n",
    "    \"\"\"Calculation of combined angular and radial distribution function\n",
    "\n",
    "    Args:\n",
    "        DH_A (array): (N,2) array of H donor and acceptor pairs\n",
    "        cutoff (float): cutoff value for the RDF\n",
    "        t (MDTraj obj): Trajectory object\n",
    "        top (MDTraj obj): Topology oblect\n",
    "\n",
    "    Returns:\n",
    "        angle_distance (array): (N',2) array of angle and distance values\n",
    "    \"\"\"\n",
    "    \n",
    "    frames=len(t)\n",
    "    angle_distance = []\n",
    "    \n",
    "    dist_DHA = md.compute_distances(t, DH_A)\n",
    "    \n",
    "    for frame in range(frames):\n",
    "        for i in range(len(DH_A)):\n",
    "            if dist_DHA[frame,i] > cutoff:\n",
    "                continue\n",
    "            for bond in top.bonds:\n",
    "                if bond[0].index == DH_A[i,0]:\n",
    "                    O = bond[1].index\n",
    "                elif bond[1].index == DH_A[i,0]:\n",
    "                    O = bond[0].index\n",
    "            D_DH_A = [[O, DH_A[i,0], DH_A[i,1]]]\n",
    "            angle_DDHA = md.compute_angles(t,D_DH_A)[frame]*57.2958\n",
    "            angle_distance.append([angle_DDHA[0],dist_DHA[frame,i]])\n",
    "            \n",
    "    return(np.array(angle_distance))"
   ]
  },
  {
   "cell_type": "code",
   "execution_count": null,
   "metadata": {},
   "outputs": [],
   "source": [
    "def bin(coords, nbinx, Lx, nbiny, Ly):\n",
    "    \"\"\"Binning angle and distance values\n",
    "    Args:\n",
    "        coords: (N,2) array of angle and distance values\n",
    "        nbinx (int): number of bins for angles\n",
    "        Lx (float): maximum angle value\n",
    "        nbiny (int): number of bins for distances\n",
    "        Ly (float): maximum distance value\n",
    "    Returns:\n",
    "        angle_distance (array): (nbinx, nbiny) array of binned occurences\n",
    "    \"\"\"\n",
    "    \n",
    "    bin_data = np.zeros((nbinx, nbiny))\n",
    "\n",
    "    voxelx = Lx/nbinx\n",
    "    voxely = Ly/nbiny\n",
    "\n",
    "    for i in range(len(coords)):\n",
    "        vi = int(round((coords[i,0]) / voxelx))\n",
    "        vj = int(round((coords[i,1]) / voxely))\n",
    "    \n",
    "       \n",
    "        if vi < 0 or vi >= nbinx:\n",
    "            continue\n",
    "        \n",
    "        if vj < 0 or vj >= nbiny:\n",
    "            continue\n",
    "        bin_data[vi, vj] += 1\n",
    "    return(bin_data)"
   ]
  },
  {
   "cell_type": "code",
   "execution_count": null,
   "metadata": {},
   "outputs": [],
   "source": [
    "# Using the hbond() function and binning the results with the bin() function \n",
    "# calculate the combined angular and radial distribution function of hydrogen\n",
    "# bonds\n",
    "\n",
    "#angle_distance = hbond()\n",
    "#bin_data = bin()\n"
   ]
  },
  {
   "cell_type": "code",
   "execution_count": null,
   "metadata": {},
   "outputs": [],
   "source": [
    "fig, ax = plt.subplots()\n",
    "\n",
    "# x = ...\n",
    "# y = ...\n",
    "\n",
    "plt.pcolormesh(x, y, bin_data, cmap='YlGnBu', vmin=np.min(bin_data), vmax=np.max(bin_data))\n",
    "plt.plot([], [], ' ')\n",
    "\n",
    "ax.set(xlabel='$r$ / Å', ylabel=r'$\\theta$ / deg')#,\n",
    "\n",
    "\n",
    "cb = plt.colorbar()\n",
    "\n",
    "\n",
    "dir_save = dir\n",
    "plt.legend(framealpha=0.0)\n",
    "fig.savefig(\"hbond.png\", dpi=300)\n",
    "plt.show()"
   ]
  },
  {
   "cell_type": "markdown",
   "metadata": {},
   "source": [
    "## Dihedral distribution\n",
    "\n",
    "A dihedral angle is an angle between two planes. In molecular geometry the planes, that are defined by three atoms, must share two of these atoms. the i--j--k--l dihedral angle measures the angle between the planes defined by i--j--k and j--k--l. "
   ]
  },
  {
   "cell_type": "code",
   "execution_count": null,
   "metadata": {},
   "outputs": [],
   "source": [
    "# calculate the dihedral distribution with\n",
    "# md.compute_dihedrals\n",
    "# and plot it in a histogram"
   ]
  },
  {
   "cell_type": "code",
   "execution_count": null,
   "metadata": {},
   "outputs": [],
   "source": [
    "fig, ax = plt.subplots()\n",
    "\n",
    "plt.hist()\n",
    "\n",
    "ax.set(xlabel=r'$\\theta$ / deg', ylabel='counts')\n",
    "fig.savefig(\"dihed.png\",bbox_inches='tight', dpi=300)"
   ]
  },
  {
   "cell_type": "markdown",
   "metadata": {},
   "source": [
    "## Diffusion coefficient\n",
    "\n",
    "The dynamic properties of the systems were probed by measuring self-diffusion coefficients, of the spicies in the system.\n",
    "\n",
    "One method to calculate diffusion coefficient is to exploit Einstein relations which allow to derive diffusivities from the mean squared displacement\n",
    "\n",
    "\\begin{equation}\n",
    "    2tD = \\frac{\\left< |\\pmb{r}(t) - \\pmb{r}(0)|^2 \\right>}{3}.  \n",
    "\\end{equation}\n",
    "\n",
    "By plotting the mean squared displacement as a function of time, we can derive the diffusion coefficient from the slope once the diffusive regime is attained.\n"
   ]
  },
  {
   "cell_type": "code",
   "execution_count": null,
   "metadata": {},
   "outputs": [],
   "source": [
    "# Calculate the MSD of water in the system using the \n",
    "# md.rmsd\n",
    "# function and compare it with the one obtained with LAMMPS\n"
   ]
  },
  {
   "cell_type": "code",
   "execution_count": null,
   "metadata": {},
   "outputs": [],
   "source": [
    "fig, ax = plt.subplots()\n",
    "#ax.set_xlim(0, 8)\n",
    "\n",
    "ax.plot()\n",
    "\n",
    "ax.set(xlabel='t / ns', ylabel='MSD / Å$^2$')\n",
    "fig.savefig(\"msd.png\",bbox_inches='tight', dpi=300)"
   ]
  }
 ],
 "metadata": {
  "kernelspec": {
   "display_name": "Python 3.12.1 ('omm')",
   "language": "python",
   "name": "python3"
  },
  "language_info": {
   "codemirror_mode": {
    "name": "ipython",
    "version": 3
   },
   "file_extension": ".py",
   "mimetype": "text/x-python",
   "name": "python",
   "nbconvert_exporter": "python",
   "pygments_lexer": "ipython3",
   "version": "3.12.1"
  },
  "orig_nbformat": 4,
  "vscode": {
   "interpreter": {
    "hash": "327c0f2b5e8adcc4b00b85d5485895118fbcfe0c3c8c10bcc2f90cfc0f45ebbd"
   }
  }
 },
 "nbformat": 4,
 "nbformat_minor": 2
}
